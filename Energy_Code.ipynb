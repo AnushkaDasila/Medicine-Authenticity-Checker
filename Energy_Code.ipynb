{
 "cells": [
  {
   "cell_type": "code",
   "execution_count": 1,
   "id": "586a9b31-5a6c-4c69-abea-3a06aefffe29",
   "metadata": {},
   "outputs": [],
   "source": [
    "import pandas as pd\n",
    "import numpy as np\n",
    "import matplotlib.pyplot as plt\n",
    "import seaborn as sns\n",
    "from sklearn.model_selection import train_test_split\n",
    "from sklearn.preprocessing import StandardScaler\n",
    "from sklearn.linear_model import LinearRegression\n",
    "from sklearn.metrics import mean_absolute_error, mean_squared_error, r2_score\n",
    "import joblib\n",
    "\n"
   ]
  },
  {
   "cell_type": "code",
   "execution_count": null,
   "id": "fff3c3a3-3f6c-45a3-98a5-cfa280a4abce",
   "metadata": {},
   "outputs": [],
   "source": [
    "# Step 2: Load Dataset\n",
    "# Use the UCI dataset: \"energydata_complete.csv\" (or your own CSV)\n",
    "# You can download from: https://archive.ics.uci.edu/ml/datasets/Appliances+energy+prediction\n",
    "# Rename it to 'energydata.csv'\n",
    "\n",
    "data = pd.read_csv(\"energydata.csv\")\n",
    "print(\"Data loaded successfully ✅\")\n",
    "print(\"Shape of dataset:\", data.shape)\n",
    "\n",
    "# Show first 5 rows\n",
    "data.head()"
   ]
  },
  {
   "cell_type": "code",
   "execution_count": null,
   "id": "e5747d4f-cd78-4bd1-8402-12c161d95cb8",
   "metadata": {},
   "outputs": [],
   "source": []
  }
 ],
 "metadata": {
  "kernelspec": {
   "display_name": "Python 3 (ipykernel)",
   "language": "python",
   "name": "python3"
  },
  "language_info": {
   "codemirror_mode": {
    "name": "ipython",
    "version": 3
   },
   "file_extension": ".py",
   "mimetype": "text/x-python",
   "name": "python",
   "nbconvert_exporter": "python",
   "pygments_lexer": "ipython3",
   "version": "3.13.5"
  }
 },
 "nbformat": 4,
 "nbformat_minor": 5
}
